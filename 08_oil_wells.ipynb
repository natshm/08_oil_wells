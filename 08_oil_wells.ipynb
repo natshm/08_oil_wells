{
 "cells": [
  {
   "cell_type": "markdown",
   "metadata": {},
   "source": [
    "# Выбор локации для скважины"
   ]
  },
  {
   "cell_type": "markdown",
   "metadata": {},
   "source": [
    "Допустим, вы работаете в добывающей компании «ГлавРосГосНефть». Нужно решить, где бурить новую скважину.\n",
    "\n",
    "Вам предоставлены пробы нефти в трёх регионах: в каждом 10 000 месторождений, где измерили качество нефти и объём её запасов. Постройте модель машинного обучения, которая поможет определить регион, где добыча принесёт наибольшую прибыль. Проанализируйте возможную прибыль и риски техникой *Bootstrap.*\n",
    "\n",
    "Шаги для выбора локации:\n",
    "\n",
    "- В избранном регионе ищут месторождения, для каждого определяют значения признаков;\n",
    "- Строят модель и оценивают объём запасов;\n",
    "- Выбирают месторождения с самым высокими оценками значений. Количество месторождений зависит от бюджета компании и стоимости разработки одной скважины;\n",
    "- Прибыль равна суммарной прибыли отобранных месторождений."
   ]
  },
  {
   "cell_type": "markdown",
   "metadata": {},
   "source": [
    "## 1. Загрузка и подготовка данных"
   ]
  },
  {
   "cell_type": "code",
   "execution_count": 1,
   "metadata": {},
   "outputs": [],
   "source": [
    "import warnings\n",
    "warnings.filterwarnings('ignore')\n",
    "import pandas as pd\n",
    "import numpy as np\n",
    "import matplotlib.pyplot as plt\n",
    "from IPython.display import display\n",
    "import seaborn as sns\n",
    "from sklearn.model_selection import train_test_split\n",
    "from sklearn.preprocessing import StandardScaler\n",
    "from sklearn.linear_model import LinearRegression\n",
    "from sklearn.metrics import mean_squared_error\n",
    "from numpy.random import RandomState\n",
    "from scipy import stats as st"
   ]
  },
  {
   "cell_type": "code",
   "execution_count": 2,
   "metadata": {},
   "outputs": [
    {
     "data": {
      "text/html": [
       "<div>\n",
       "<style scoped>\n",
       "    .dataframe tbody tr th:only-of-type {\n",
       "        vertical-align: middle;\n",
       "    }\n",
       "\n",
       "    .dataframe tbody tr th {\n",
       "        vertical-align: top;\n",
       "    }\n",
       "\n",
       "    .dataframe thead th {\n",
       "        text-align: right;\n",
       "    }\n",
       "</style>\n",
       "<table border=\"1\" class=\"dataframe\">\n",
       "  <thead>\n",
       "    <tr style=\"text-align: right;\">\n",
       "      <th></th>\n",
       "      <th>id</th>\n",
       "      <th>f0</th>\n",
       "      <th>f1</th>\n",
       "      <th>f2</th>\n",
       "      <th>product</th>\n",
       "    </tr>\n",
       "  </thead>\n",
       "  <tbody>\n",
       "    <tr>\n",
       "      <th>0</th>\n",
       "      <td>txEyH</td>\n",
       "      <td>0.705745</td>\n",
       "      <td>-0.497823</td>\n",
       "      <td>1.221170</td>\n",
       "      <td>105.280062</td>\n",
       "    </tr>\n",
       "    <tr>\n",
       "      <th>1</th>\n",
       "      <td>2acmU</td>\n",
       "      <td>1.334711</td>\n",
       "      <td>-0.340164</td>\n",
       "      <td>4.365080</td>\n",
       "      <td>73.037750</td>\n",
       "    </tr>\n",
       "    <tr>\n",
       "      <th>2</th>\n",
       "      <td>409Wp</td>\n",
       "      <td>1.022732</td>\n",
       "      <td>0.151990</td>\n",
       "      <td>1.419926</td>\n",
       "      <td>85.265647</td>\n",
       "    </tr>\n",
       "    <tr>\n",
       "      <th>3</th>\n",
       "      <td>iJLyR</td>\n",
       "      <td>-0.032172</td>\n",
       "      <td>0.139033</td>\n",
       "      <td>2.978566</td>\n",
       "      <td>168.620776</td>\n",
       "    </tr>\n",
       "    <tr>\n",
       "      <th>4</th>\n",
       "      <td>Xdl7t</td>\n",
       "      <td>1.988431</td>\n",
       "      <td>0.155413</td>\n",
       "      <td>4.751769</td>\n",
       "      <td>154.036647</td>\n",
       "    </tr>\n",
       "  </tbody>\n",
       "</table>\n",
       "</div>"
      ],
      "text/plain": [
       "      id        f0        f1        f2     product\n",
       "0  txEyH  0.705745 -0.497823  1.221170  105.280062\n",
       "1  2acmU  1.334711 -0.340164  4.365080   73.037750\n",
       "2  409Wp  1.022732  0.151990  1.419926   85.265647\n",
       "3  iJLyR -0.032172  0.139033  2.978566  168.620776\n",
       "4  Xdl7t  1.988431  0.155413  4.751769  154.036647"
      ]
     },
     "metadata": {},
     "output_type": "display_data"
    },
    {
     "name": "stdout",
     "output_type": "stream",
     "text": [
      "(100000, 5)\n",
      "<class 'pandas.core.frame.DataFrame'>\n",
      "RangeIndex: 100000 entries, 0 to 99999\n",
      "Data columns (total 5 columns):\n",
      " #   Column   Non-Null Count   Dtype  \n",
      "---  ------   --------------   -----  \n",
      " 0   id       100000 non-null  object \n",
      " 1   f0       100000 non-null  float64\n",
      " 2   f1       100000 non-null  float64\n",
      " 3   f2       100000 non-null  float64\n",
      " 4   product  100000 non-null  float64\n",
      "dtypes: float64(4), object(1)\n",
      "memory usage: 3.8+ MB\n"
     ]
    },
    {
     "data": {
      "text/html": [
       "<div>\n",
       "<style scoped>\n",
       "    .dataframe tbody tr th:only-of-type {\n",
       "        vertical-align: middle;\n",
       "    }\n",
       "\n",
       "    .dataframe tbody tr th {\n",
       "        vertical-align: top;\n",
       "    }\n",
       "\n",
       "    .dataframe thead th {\n",
       "        text-align: right;\n",
       "    }\n",
       "</style>\n",
       "<table border=\"1\" class=\"dataframe\">\n",
       "  <thead>\n",
       "    <tr style=\"text-align: right;\">\n",
       "      <th></th>\n",
       "      <th>id</th>\n",
       "      <th>f0</th>\n",
       "      <th>f1</th>\n",
       "      <th>f2</th>\n",
       "      <th>product</th>\n",
       "    </tr>\n",
       "  </thead>\n",
       "  <tbody>\n",
       "    <tr>\n",
       "      <th>0</th>\n",
       "      <td>kBEdx</td>\n",
       "      <td>-15.001348</td>\n",
       "      <td>-8.276000</td>\n",
       "      <td>-0.005876</td>\n",
       "      <td>3.179103</td>\n",
       "    </tr>\n",
       "    <tr>\n",
       "      <th>1</th>\n",
       "      <td>62mP7</td>\n",
       "      <td>14.272088</td>\n",
       "      <td>-3.475083</td>\n",
       "      <td>0.999183</td>\n",
       "      <td>26.953261</td>\n",
       "    </tr>\n",
       "    <tr>\n",
       "      <th>2</th>\n",
       "      <td>vyE1P</td>\n",
       "      <td>6.263187</td>\n",
       "      <td>-5.948386</td>\n",
       "      <td>5.001160</td>\n",
       "      <td>134.766305</td>\n",
       "    </tr>\n",
       "    <tr>\n",
       "      <th>3</th>\n",
       "      <td>KcrkZ</td>\n",
       "      <td>-13.081196</td>\n",
       "      <td>-11.506057</td>\n",
       "      <td>4.999415</td>\n",
       "      <td>137.945408</td>\n",
       "    </tr>\n",
       "    <tr>\n",
       "      <th>4</th>\n",
       "      <td>AHL4O</td>\n",
       "      <td>12.702195</td>\n",
       "      <td>-8.147433</td>\n",
       "      <td>5.004363</td>\n",
       "      <td>134.766305</td>\n",
       "    </tr>\n",
       "  </tbody>\n",
       "</table>\n",
       "</div>"
      ],
      "text/plain": [
       "      id         f0         f1        f2     product\n",
       "0  kBEdx -15.001348  -8.276000 -0.005876    3.179103\n",
       "1  62mP7  14.272088  -3.475083  0.999183   26.953261\n",
       "2  vyE1P   6.263187  -5.948386  5.001160  134.766305\n",
       "3  KcrkZ -13.081196 -11.506057  4.999415  137.945408\n",
       "4  AHL4O  12.702195  -8.147433  5.004363  134.766305"
      ]
     },
     "metadata": {},
     "output_type": "display_data"
    },
    {
     "name": "stdout",
     "output_type": "stream",
     "text": [
      "(100000, 5)\n",
      "<class 'pandas.core.frame.DataFrame'>\n",
      "RangeIndex: 100000 entries, 0 to 99999\n",
      "Data columns (total 5 columns):\n",
      " #   Column   Non-Null Count   Dtype  \n",
      "---  ------   --------------   -----  \n",
      " 0   id       100000 non-null  object \n",
      " 1   f0       100000 non-null  float64\n",
      " 2   f1       100000 non-null  float64\n",
      " 3   f2       100000 non-null  float64\n",
      " 4   product  100000 non-null  float64\n",
      "dtypes: float64(4), object(1)\n",
      "memory usage: 3.8+ MB\n"
     ]
    },
    {
     "data": {
      "text/html": [
       "<div>\n",
       "<style scoped>\n",
       "    .dataframe tbody tr th:only-of-type {\n",
       "        vertical-align: middle;\n",
       "    }\n",
       "\n",
       "    .dataframe tbody tr th {\n",
       "        vertical-align: top;\n",
       "    }\n",
       "\n",
       "    .dataframe thead th {\n",
       "        text-align: right;\n",
       "    }\n",
       "</style>\n",
       "<table border=\"1\" class=\"dataframe\">\n",
       "  <thead>\n",
       "    <tr style=\"text-align: right;\">\n",
       "      <th></th>\n",
       "      <th>id</th>\n",
       "      <th>f0</th>\n",
       "      <th>f1</th>\n",
       "      <th>f2</th>\n",
       "      <th>product</th>\n",
       "    </tr>\n",
       "  </thead>\n",
       "  <tbody>\n",
       "    <tr>\n",
       "      <th>0</th>\n",
       "      <td>fwXo0</td>\n",
       "      <td>-1.146987</td>\n",
       "      <td>0.963328</td>\n",
       "      <td>-0.828965</td>\n",
       "      <td>27.758673</td>\n",
       "    </tr>\n",
       "    <tr>\n",
       "      <th>1</th>\n",
       "      <td>WJtFt</td>\n",
       "      <td>0.262778</td>\n",
       "      <td>0.269839</td>\n",
       "      <td>-2.530187</td>\n",
       "      <td>56.069697</td>\n",
       "    </tr>\n",
       "    <tr>\n",
       "      <th>2</th>\n",
       "      <td>ovLUW</td>\n",
       "      <td>0.194587</td>\n",
       "      <td>0.289035</td>\n",
       "      <td>-5.586433</td>\n",
       "      <td>62.871910</td>\n",
       "    </tr>\n",
       "    <tr>\n",
       "      <th>3</th>\n",
       "      <td>q6cA6</td>\n",
       "      <td>2.236060</td>\n",
       "      <td>-0.553760</td>\n",
       "      <td>0.930038</td>\n",
       "      <td>114.572842</td>\n",
       "    </tr>\n",
       "    <tr>\n",
       "      <th>4</th>\n",
       "      <td>WPMUX</td>\n",
       "      <td>-0.515993</td>\n",
       "      <td>1.716266</td>\n",
       "      <td>5.899011</td>\n",
       "      <td>149.600746</td>\n",
       "    </tr>\n",
       "  </tbody>\n",
       "</table>\n",
       "</div>"
      ],
      "text/plain": [
       "      id        f0        f1        f2     product\n",
       "0  fwXo0 -1.146987  0.963328 -0.828965   27.758673\n",
       "1  WJtFt  0.262778  0.269839 -2.530187   56.069697\n",
       "2  ovLUW  0.194587  0.289035 -5.586433   62.871910\n",
       "3  q6cA6  2.236060 -0.553760  0.930038  114.572842\n",
       "4  WPMUX -0.515993  1.716266  5.899011  149.600746"
      ]
     },
     "metadata": {},
     "output_type": "display_data"
    },
    {
     "name": "stdout",
     "output_type": "stream",
     "text": [
      "(100000, 5)\n",
      "<class 'pandas.core.frame.DataFrame'>\n",
      "RangeIndex: 100000 entries, 0 to 99999\n",
      "Data columns (total 5 columns):\n",
      " #   Column   Non-Null Count   Dtype  \n",
      "---  ------   --------------   -----  \n",
      " 0   id       100000 non-null  object \n",
      " 1   f0       100000 non-null  float64\n",
      " 2   f1       100000 non-null  float64\n",
      " 3   f2       100000 non-null  float64\n",
      " 4   product  100000 non-null  float64\n",
      "dtypes: float64(4), object(1)\n",
      "memory usage: 3.8+ MB\n"
     ]
    }
   ],
   "source": [
    "geo_0 = pd.read_csv('/datasets/geo_data_0.csv')\n",
    "display(geo_0.head())\n",
    "print(geo_0.shape)\n",
    "geo_0.info()\n",
    "geo_1 = pd.read_csv('/datasets/geo_data_1.csv')\n",
    "display(geo_1.head())\n",
    "print(geo_1.shape)\n",
    "geo_1.info()\n",
    "geo_2 = pd.read_csv('/datasets/geo_data_2.csv')\n",
    "display(geo_2.head())\n",
    "print(geo_2.shape)\n",
    "geo_2.info()"
   ]
  },
  {
   "cell_type": "code",
   "execution_count": 3,
   "metadata": {},
   "outputs": [
    {
     "data": {
      "text/html": [
       "<div>\n",
       "<style scoped>\n",
       "    .dataframe tbody tr th:only-of-type {\n",
       "        vertical-align: middle;\n",
       "    }\n",
       "\n",
       "    .dataframe tbody tr th {\n",
       "        vertical-align: top;\n",
       "    }\n",
       "\n",
       "    .dataframe thead th {\n",
       "        text-align: right;\n",
       "    }\n",
       "</style>\n",
       "<table border=\"1\" class=\"dataframe\">\n",
       "  <thead>\n",
       "    <tr style=\"text-align: right;\">\n",
       "      <th></th>\n",
       "      <th>count</th>\n",
       "      <th>mean</th>\n",
       "      <th>std</th>\n",
       "      <th>min</th>\n",
       "      <th>25%</th>\n",
       "      <th>50%</th>\n",
       "      <th>75%</th>\n",
       "      <th>max</th>\n",
       "    </tr>\n",
       "  </thead>\n",
       "  <tbody>\n",
       "    <tr>\n",
       "      <th>f0</th>\n",
       "      <td>100000.0</td>\n",
       "      <td>0.500419</td>\n",
       "      <td>0.871832</td>\n",
       "      <td>-1.408605</td>\n",
       "      <td>-0.072580</td>\n",
       "      <td>0.502360</td>\n",
       "      <td>1.073581</td>\n",
       "      <td>2.362331</td>\n",
       "    </tr>\n",
       "    <tr>\n",
       "      <th>f1</th>\n",
       "      <td>100000.0</td>\n",
       "      <td>0.250143</td>\n",
       "      <td>0.504433</td>\n",
       "      <td>-0.848218</td>\n",
       "      <td>-0.200881</td>\n",
       "      <td>0.250252</td>\n",
       "      <td>0.700646</td>\n",
       "      <td>1.343769</td>\n",
       "    </tr>\n",
       "    <tr>\n",
       "      <th>f2</th>\n",
       "      <td>100000.0</td>\n",
       "      <td>2.502647</td>\n",
       "      <td>3.248248</td>\n",
       "      <td>-12.088328</td>\n",
       "      <td>0.287748</td>\n",
       "      <td>2.515969</td>\n",
       "      <td>4.715088</td>\n",
       "      <td>16.003790</td>\n",
       "    </tr>\n",
       "    <tr>\n",
       "      <th>product</th>\n",
       "      <td>100000.0</td>\n",
       "      <td>92.500000</td>\n",
       "      <td>44.288691</td>\n",
       "      <td>0.000000</td>\n",
       "      <td>56.497507</td>\n",
       "      <td>91.849972</td>\n",
       "      <td>128.564089</td>\n",
       "      <td>185.364347</td>\n",
       "    </tr>\n",
       "  </tbody>\n",
       "</table>\n",
       "</div>"
      ],
      "text/plain": [
       "            count       mean        std        min        25%        50%  \\\n",
       "f0       100000.0   0.500419   0.871832  -1.408605  -0.072580   0.502360   \n",
       "f1       100000.0   0.250143   0.504433  -0.848218  -0.200881   0.250252   \n",
       "f2       100000.0   2.502647   3.248248 -12.088328   0.287748   2.515969   \n",
       "product  100000.0  92.500000  44.288691   0.000000  56.497507  91.849972   \n",
       "\n",
       "                75%         max  \n",
       "f0         1.073581    2.362331  \n",
       "f1         0.700646    1.343769  \n",
       "f2         4.715088   16.003790  \n",
       "product  128.564089  185.364347  "
      ]
     },
     "metadata": {},
     "output_type": "display_data"
    },
    {
     "data": {
      "text/html": [
       "<div>\n",
       "<style scoped>\n",
       "    .dataframe tbody tr th:only-of-type {\n",
       "        vertical-align: middle;\n",
       "    }\n",
       "\n",
       "    .dataframe tbody tr th {\n",
       "        vertical-align: top;\n",
       "    }\n",
       "\n",
       "    .dataframe thead th {\n",
       "        text-align: right;\n",
       "    }\n",
       "</style>\n",
       "<table border=\"1\" class=\"dataframe\">\n",
       "  <thead>\n",
       "    <tr style=\"text-align: right;\">\n",
       "      <th></th>\n",
       "      <th>count</th>\n",
       "      <th>mean</th>\n",
       "      <th>std</th>\n",
       "      <th>min</th>\n",
       "      <th>25%</th>\n",
       "      <th>50%</th>\n",
       "      <th>75%</th>\n",
       "      <th>max</th>\n",
       "    </tr>\n",
       "  </thead>\n",
       "  <tbody>\n",
       "    <tr>\n",
       "      <th>f0</th>\n",
       "      <td>100000.0</td>\n",
       "      <td>1.141296</td>\n",
       "      <td>8.965932</td>\n",
       "      <td>-31.609576</td>\n",
       "      <td>-6.298551</td>\n",
       "      <td>1.153055</td>\n",
       "      <td>8.621015</td>\n",
       "      <td>29.421755</td>\n",
       "    </tr>\n",
       "    <tr>\n",
       "      <th>f1</th>\n",
       "      <td>100000.0</td>\n",
       "      <td>-4.796579</td>\n",
       "      <td>5.119872</td>\n",
       "      <td>-26.358598</td>\n",
       "      <td>-8.267985</td>\n",
       "      <td>-4.813172</td>\n",
       "      <td>-1.332816</td>\n",
       "      <td>18.734063</td>\n",
       "    </tr>\n",
       "    <tr>\n",
       "      <th>f2</th>\n",
       "      <td>100000.0</td>\n",
       "      <td>2.494541</td>\n",
       "      <td>1.703572</td>\n",
       "      <td>-0.018144</td>\n",
       "      <td>1.000021</td>\n",
       "      <td>2.011479</td>\n",
       "      <td>3.999904</td>\n",
       "      <td>5.019721</td>\n",
       "    </tr>\n",
       "    <tr>\n",
       "      <th>product</th>\n",
       "      <td>100000.0</td>\n",
       "      <td>68.825000</td>\n",
       "      <td>45.944423</td>\n",
       "      <td>0.000000</td>\n",
       "      <td>26.953261</td>\n",
       "      <td>57.085625</td>\n",
       "      <td>107.813044</td>\n",
       "      <td>137.945408</td>\n",
       "    </tr>\n",
       "  </tbody>\n",
       "</table>\n",
       "</div>"
      ],
      "text/plain": [
       "            count       mean        std        min        25%        50%  \\\n",
       "f0       100000.0   1.141296   8.965932 -31.609576  -6.298551   1.153055   \n",
       "f1       100000.0  -4.796579   5.119872 -26.358598  -8.267985  -4.813172   \n",
       "f2       100000.0   2.494541   1.703572  -0.018144   1.000021   2.011479   \n",
       "product  100000.0  68.825000  45.944423   0.000000  26.953261  57.085625   \n",
       "\n",
       "                75%         max  \n",
       "f0         8.621015   29.421755  \n",
       "f1        -1.332816   18.734063  \n",
       "f2         3.999904    5.019721  \n",
       "product  107.813044  137.945408  "
      ]
     },
     "metadata": {},
     "output_type": "display_data"
    },
    {
     "data": {
      "text/html": [
       "<div>\n",
       "<style scoped>\n",
       "    .dataframe tbody tr th:only-of-type {\n",
       "        vertical-align: middle;\n",
       "    }\n",
       "\n",
       "    .dataframe tbody tr th {\n",
       "        vertical-align: top;\n",
       "    }\n",
       "\n",
       "    .dataframe thead th {\n",
       "        text-align: right;\n",
       "    }\n",
       "</style>\n",
       "<table border=\"1\" class=\"dataframe\">\n",
       "  <thead>\n",
       "    <tr style=\"text-align: right;\">\n",
       "      <th></th>\n",
       "      <th>count</th>\n",
       "      <th>mean</th>\n",
       "      <th>std</th>\n",
       "      <th>min</th>\n",
       "      <th>25%</th>\n",
       "      <th>50%</th>\n",
       "      <th>75%</th>\n",
       "      <th>max</th>\n",
       "    </tr>\n",
       "  </thead>\n",
       "  <tbody>\n",
       "    <tr>\n",
       "      <th>f0</th>\n",
       "      <td>100000.0</td>\n",
       "      <td>0.002023</td>\n",
       "      <td>1.732045</td>\n",
       "      <td>-8.760004</td>\n",
       "      <td>-1.162288</td>\n",
       "      <td>0.009424</td>\n",
       "      <td>1.158535</td>\n",
       "      <td>7.238262</td>\n",
       "    </tr>\n",
       "    <tr>\n",
       "      <th>f1</th>\n",
       "      <td>100000.0</td>\n",
       "      <td>-0.002081</td>\n",
       "      <td>1.730417</td>\n",
       "      <td>-7.084020</td>\n",
       "      <td>-1.174820</td>\n",
       "      <td>-0.009482</td>\n",
       "      <td>1.163678</td>\n",
       "      <td>7.844801</td>\n",
       "    </tr>\n",
       "    <tr>\n",
       "      <th>f2</th>\n",
       "      <td>100000.0</td>\n",
       "      <td>2.495128</td>\n",
       "      <td>3.473445</td>\n",
       "      <td>-11.970335</td>\n",
       "      <td>0.130359</td>\n",
       "      <td>2.484236</td>\n",
       "      <td>4.858794</td>\n",
       "      <td>16.739402</td>\n",
       "    </tr>\n",
       "    <tr>\n",
       "      <th>product</th>\n",
       "      <td>100000.0</td>\n",
       "      <td>95.000000</td>\n",
       "      <td>44.749921</td>\n",
       "      <td>0.000000</td>\n",
       "      <td>59.450441</td>\n",
       "      <td>94.925613</td>\n",
       "      <td>130.595027</td>\n",
       "      <td>190.029838</td>\n",
       "    </tr>\n",
       "  </tbody>\n",
       "</table>\n",
       "</div>"
      ],
      "text/plain": [
       "            count       mean        std        min        25%        50%  \\\n",
       "f0       100000.0   0.002023   1.732045  -8.760004  -1.162288   0.009424   \n",
       "f1       100000.0  -0.002081   1.730417  -7.084020  -1.174820  -0.009482   \n",
       "f2       100000.0   2.495128   3.473445 -11.970335   0.130359   2.484236   \n",
       "product  100000.0  95.000000  44.749921   0.000000  59.450441  94.925613   \n",
       "\n",
       "                75%         max  \n",
       "f0         1.158535    7.238262  \n",
       "f1         1.163678    7.844801  \n",
       "f2         4.858794   16.739402  \n",
       "product  130.595027  190.029838  "
      ]
     },
     "metadata": {},
     "output_type": "display_data"
    }
   ],
   "source": [
    "display(geo_0.describe().transpose())\n",
    "display(geo_1.describe().transpose())\n",
    "display(geo_2.describe().transpose())"
   ]
  },
  {
   "cell_type": "code",
   "execution_count": 4,
   "metadata": {},
   "outputs": [
    {
     "name": "stdout",
     "output_type": "stream",
     "text": [
      "Явных дубликатов в geo_0: 0\n",
      "Явных дубликатов в geo_1: 0\n",
      "Явных дубликатов в geo_2: 0\n"
     ]
    }
   ],
   "source": [
    "print('Явных дубликатов в geo_0:', (geo_0.duplicated().sum()))\n",
    "print('Явных дубликатов в geo_1:', (geo_0.duplicated().sum()))\n",
    "print('Явных дубликатов в geo_2:', (geo_0.duplicated().sum()))\n"
   ]
  },
  {
   "cell_type": "markdown",
   "metadata": {},
   "source": [
    "### 1.1 Описание данных:\n",
    "\n",
    "•\tid — уникальный идентификатор скважины \n",
    "•\tf0, f1, f2 — три признака точек (неважно, что они означают, но сами признаки значимы);\n",
    "\n",
    "•\tproduct — объём запасов в скважине (тыс. баррелей).\n",
    "\n",
    "Условия задачи:\n",
    "\n",
    "•\tДля обучения модели подходит только линейная регрессия (остальные — недостаточно предсказуемые).\n",
    "\n",
    "•\tПри разведке региона исследуют 500 точек, из которых с помощью машинного обучения выбирают 200 лучших для разработки.\n",
    "\n",
    "•\tБюджет на разработку скважин в регионе — 10 млрд рублей.\n",
    "\n",
    "•\tПри нынешних ценах один баррель сырья приносит 450 рублей дохода. Доход с каждой единицы продукта составляет 450 тыс.\n",
    "рублей, поскольку объём указан в тысячах баррелей.\n",
    "\n",
    "•\tПосле оценки рисков нужно оставить лишь те регионы, в которых вероятность убытков меньше 2.5%. Среди них выбирают регион с наибольшей средней прибылью."
   ]
  },
  {
   "cell_type": "code",
   "execution_count": 5,
   "metadata": {},
   "outputs": [
    {
     "data": {
      "image/png": "[encoded data removed]",
      "text/plain": [
       "<Figure size 480x400 with 2 Axes>"
      ]
     },
     "metadata": {
      "needs_background": "light"
     },
     "output_type": "display_data"
    },
    {
     "data": {
      "image/png": "[encoded data removed]",
      "text/plain": [
       "<Figure size 480x400 with 2 Axes>"
      ]
     },
     "metadata": {
      "needs_background": "light"
     },
     "output_type": "display_data"
    },
    {
     "data": {
      "image/png": "[encoded data removed]",
      "text/plain": [
       "<Figure size 480x400 with 2 Axes>"
      ]
     },
     "metadata": {
      "needs_background": "light"
     },
     "output_type": "display_data"
    }
   ],
   "source": [
    "def make_heat_map(data_geo, name):\n",
    "# Plot \n",
    "    plt.figure(figsize=(6.0,5.0), dpi= 80)\n",
    "    sns.heatmap(\n",
    "        data_geo.corr(),\n",
    "        xticklabels=data_geo.corr().columns,\n",
    "        yticklabels=data_geo.corr().columns,\n",
    "        cmap='nipy_spectral',\n",
    "        center=2,\n",
    "        annot=True,\n",
    "        linewidths=2,\n",
    "        linecolor='white'\n",
    "    )\n",
    "\n",
    "# Decorations\n",
    "    plt.title(name, fontsize=12)\n",
    "    plt.xticks(fontsize=12)\n",
    "    plt.yticks(fontsize=12)\n",
    "    plt.show()\n",
    "\n",
    "reg_0 = make_heat_map(geo_0, 'Регион 1')\n",
    "reg_1 = make_heat_map(geo_1, 'Регион 2')\n",
    "reg_2 = make_heat_map(geo_2, 'Регион 3')"
   ]
  },
  {
   "cell_type": "markdown",
   "metadata": {},
   "source": [
    "**Вывод:**\n",
    "\n",
    "\n",
    "Во всех трех датасетах отсутствуют пропущенные значения и дубликаты. В каждом из датасетов, Целевой признак - **'product'** c числовым типом данных.\n",
    "\n",
    "Для всех датасетов средние близки к медианным значениям, значит значительных выбросов в данных нет.\n",
    "\n",
    "Корреляция между признаками . \n",
    "\n",
    "Тепловая карта \"Регион 2\" демонстрирует прямую зависимость целевого от признака f2, которая означает, что объем нефти в данном регионе напрямую определяется признаком f2. \n",
    "\n",
    "Корреляция между признаками (f0, f1 , f2) не достигает 0,6, речи о мультколлинеарности нет.Все признаки остаются на месте.\n",
    "\n",
    "**id** — уникальный идентификатор скважины — порядковый тип данных -  полежит уделению, т.к. для прогноза не нужен."
   ]
  },
  {
   "cell_type": "markdown",
   "metadata": {},
   "source": [
    "### 1.2 Подготовка данных\n",
    "\n",
    "Ниже создана функция, которая принимает на вход датасеты по регионам, разделяет их на **target** и **features**, удаляет колонку **id**, разделяет выборки на тренировочную и валидационные, проводит масштабирование численных признаков.\n"
   ]
  },
  {
   "cell_type": "code",
   "execution_count": 6,
   "metadata": {},
   "outputs": [
    {
     "name": "stdout",
     "output_type": "stream",
     "text": [
      "Разделение:\n",
      "(75000, 3)\n",
      "(25000, 3)\n",
      "(75000,)\n",
      "(25000,)\n",
      "Масштабирование\n"
     ]
    },
    {
     "data": {
      "text/html": [
       "<div>\n",
       "<style scoped>\n",
       "    .dataframe tbody tr th:only-of-type {\n",
       "        vertical-align: middle;\n",
       "    }\n",
       "\n",
       "    .dataframe tbody tr th {\n",
       "        vertical-align: top;\n",
       "    }\n",
       "\n",
       "    .dataframe thead th {\n",
       "        text-align: right;\n",
       "    }\n",
       "</style>\n",
       "<table border=\"1\" class=\"dataframe\">\n",
       "  <thead>\n",
       "    <tr style=\"text-align: right;\">\n",
       "      <th></th>\n",
       "      <th>count</th>\n",
       "      <th>mean</th>\n",
       "      <th>std</th>\n",
       "      <th>min</th>\n",
       "      <th>25%</th>\n",
       "      <th>50%</th>\n",
       "      <th>75%</th>\n",
       "      <th>max</th>\n",
       "    </tr>\n",
       "  </thead>\n",
       "  <tbody>\n",
       "    <tr>\n",
       "      <th>f0</th>\n",
       "      <td>75000.0</td>\n",
       "      <td>1.680907e-16</td>\n",
       "      <td>1.000007</td>\n",
       "      <td>-2.186288</td>\n",
       "      <td>-0.657554</td>\n",
       "      <td>0.001879</td>\n",
       "      <td>0.657118</td>\n",
       "      <td>2.139081</td>\n",
       "    </tr>\n",
       "    <tr>\n",
       "      <th>f1</th>\n",
       "      <td>75000.0</td>\n",
       "      <td>-3.474554e-17</td>\n",
       "      <td>1.000007</td>\n",
       "      <td>-2.178269</td>\n",
       "      <td>-0.892534</td>\n",
       "      <td>-0.000741</td>\n",
       "      <td>0.892851</td>\n",
       "      <td>2.169192</td>\n",
       "    </tr>\n",
       "    <tr>\n",
       "      <th>f2</th>\n",
       "      <td>75000.0</td>\n",
       "      <td>6.442254e-18</td>\n",
       "      <td>1.000007</td>\n",
       "      <td>-3.890945</td>\n",
       "      <td>-0.679958</td>\n",
       "      <td>0.004289</td>\n",
       "      <td>0.682975</td>\n",
       "      <td>4.153623</td>\n",
       "    </tr>\n",
       "  </tbody>\n",
       "</table>\n",
       "</div>"
      ],
      "text/plain": [
       "      count          mean       std       min       25%       50%       75%  \\\n",
       "f0  75000.0  1.680907e-16  1.000007 -2.186288 -0.657554  0.001879  0.657118   \n",
       "f1  75000.0 -3.474554e-17  1.000007 -2.178269 -0.892534 -0.000741  0.892851   \n",
       "f2  75000.0  6.442254e-18  1.000007 -3.890945 -0.679958  0.004289  0.682975   \n",
       "\n",
       "         max  \n",
       "f0  2.139081  \n",
       "f1  2.169192  \n",
       "f2  4.153623  "
      ]
     },
     "execution_count": 6,
     "metadata": {},
     "output_type": "execute_result"
    }
   ],
   "source": [
    "def make_split_scal_data(data_geo):\n",
    "    \n",
    "    target_column = 'product'\n",
    "    target = data_geo[target_column]\n",
    "    features = data_geo.drop(target_column, axis=1)\n",
    "    features = features.drop('id', axis=1)\n",
    "    \n",
    "    \n",
    "    # Разделение выборок:\n",
    "    rand_state = 12345\n",
    "    features_train, features_valid, target_train, target_valid = train_test_split(\n",
    "        features, target, test_size=0.25, random_state=rand_state)\n",
    "    \n",
    "    \n",
    "    # Масштабирование численных признаков методом стандартизации данных:\n",
    "    numeric = ['f0', 'f1', 'f2']\n",
    "    scaler = StandardScaler()\n",
    "    scaler.fit(features_train[numeric])\n",
    "    \n",
    "    \n",
    "    features_train[numeric] = scaler.transform(features_train[numeric])\n",
    "    features_valid[numeric] = scaler.transform(features_valid[numeric])\n",
    "    \n",
    "    \n",
    "    return features_train, features_valid, target_train, target_valid\n",
    "\n",
    "# Применение функции features и target для 3-х регионов:\n",
    "features_train_0, features_valid_0, target_train_0, target_valid_0 = make_split_scal_data(geo_0)\n",
    "features_train_1, features_valid_1, target_train_1, target_valid_1 = make_split_scal_data(geo_1)\n",
    "features_train_2, features_valid_2, target_train_2, target_valid_2 = make_split_scal_data(geo_2)\n",
    "# Проверка работы функции:\n",
    "print('Разделение:')\n",
    "print(features_train_0.shape)\n",
    "print(features_valid_0.shape)\n",
    "print(target_train_0.shape)\n",
    "print(target_valid_0.shape)\n",
    "print('Масштабирование')\n",
    "features_train_0.describe().transpose()"
   ]
  },
  {
   "cell_type": "markdown",
   "metadata": {},
   "source": [
    "## 2. Обучение и проверка модели"
   ]
  },
  {
   "cell_type": "code",
   "execution_count": 7,
   "metadata": {},
   "outputs": [
    {
     "name": "stdout",
     "output_type": "stream",
     "text": [
      "Для Регион 1: RMSE=  37.58, Предсказанный средний запас сырья = 92.59, истиный средний запас= 92.08\n",
      "Для Регион 2: RMSE=  0.89, Предсказанный средний запас сырья = 68.73, истиный средний запас= 68.72\n",
      "Для Регион 3: RMSE=  40.03, Предсказанный средний запас сырья = 94.97, истиный средний запас= 94.88\n"
     ]
    }
   ],
   "source": [
    "# инициализация модели:\n",
    "model = LinearRegression()\n",
    "    \n",
    "def train_and_predict(features_train, features_valid, target_train, target_valid):\n",
    "    \n",
    "    \n",
    "    # обучение:\n",
    "    model.fit(features_train, target_train)  \n",
    "    # расчёт предсказаний на валидационной выборке\n",
    "    predictions_valid = pd.Series(model.predict(features_valid))\n",
    "    predicted_mean = predictions_valid.mean()\n",
    "    result_rmse = (mean_squared_error(target_valid, predictions_valid) ** 0.5)\n",
    "\n",
    "    return predictions_valid, predicted_mean, result_rmse\n",
    "\n",
    "\n",
    "predictions_valid_0, predicted_mean_0, result_rmse_0 = train_and_predict(features_train_0, features_valid_0, target_train_0, target_valid_0)\n",
    "predictions_valid_1, predicted_mean_1, result_rmse_1 = train_and_predict(features_train_1, features_valid_1, target_train_1, target_valid_1)\n",
    "predictions_valid_2, predicted_mean_2, result_rmse_2 = train_and_predict(features_train_2, features_valid_2, target_train_2, target_valid_2)\n",
    "\n",
    "predicted_mean_0\n",
    "dates = {\n",
    "    'Регион 1': [predictions_valid_0, predicted_mean_0, result_rmse_0, target_valid_0],\n",
    "    'Регион 2': [predictions_valid_1, predicted_mean_1, result_rmse_1, target_valid_1],\n",
    "    'Регион 3': [predictions_valid_2, predicted_mean_2, result_rmse_2, target_valid_2]\n",
    "}\n",
    "\n",
    "\n",
    "for name, data in dates.items():\n",
    "    _, predicted_mean, result_rmse, target_valid = data\n",
    "    true_mean_stock_raw = target_valid.mean()\n",
    "    print(f'Для {name}: RMSE=  {round(result_rmse, 2)}, Предсказанный средний запас сырья = {round(predicted_mean, 2)},'\n",
    "          f' истиный средний запас= {round(true_mean_stock_raw, 2)}')  "
   ]
  },
  {
   "cell_type": "markdown",
   "metadata": {},
   "source": [
    "**Вывод:**\n",
    "\n",
    "Наилучшими прогнозными свойствами обладает Регион 1 , RMSE=  0.89. т.к. признак f2 имеет прямую зависимость с целевым признаком и определяет поведение модели. \n",
    "\n",
    "Истинные средние запасы отличаются от предсказанных всего на несколько сотых, то есть очень близки.\n",
    "\n",
    "Предсказательные способности моделей для 1 и 3 регионов приктически одинаковы(согласно параметрам RMSE)."
   ]
  },
  {
   "cell_type": "markdown",
   "metadata": {},
   "source": [
    "## 3. Подготовка к расчёту прибыли"
   ]
  },
  {
   "cell_type": "code",
   "execution_count": 8,
   "metadata": {},
   "outputs": [],
   "source": [
    "# создание констант\n",
    "explore_point_count = 500 # количество исследуемых точек при разведке региона\n",
    "best_point_count = 200 # количество  лучших точек из исследуемых для разработки\n",
    "budget_for_region = 10000 # Бюджет на разработку скважин в регионе (млн.руб.)\n",
    "revenue_1k_barrel = 0.45 # доход с 1 тыс баррель (млн.руб.)\n",
    "loss_probability = 0.025 # максимальная вероятность убытков\n",
    "bootstrap_samples = 1000 # количество повторений псевдовыборок"
   ]
  },
  {
   "cell_type": "code",
   "execution_count": 9,
   "metadata": {},
   "outputs": [
    {
     "name": "stdout",
     "output_type": "stream",
     "text": [
      "Минимальное количество добычи нефти в скважине = 111.11 тыс. баррелей.\n"
     ]
    }
   ],
   "source": [
    "# Расчет минимального среднего количества продукта в месторождениях региона, достаточное для разработки\n",
    "min_product_for_budget = budget_for_region / best_point_count / revenue_1k_barrel\n",
    "print(f'Минимальное количество добычи нефти в скважине = {round(min_product_for_budget, 2)} тыс. баррелей.')"
   ]
  },
  {
   "cell_type": "code",
   "execution_count": 10,
   "metadata": {},
   "outputs": [
    {
     "name": "stdout",
     "output_type": "stream",
     "text": [
      "Прибыль по регионам с 200 лучших скважин(выборка из 25000 скважин)\n",
      "Регион 1: 3321 млн.руб.\n",
      "Регион 2: 2415 млн.руб.\n",
      "Регион 3: 2710 млн.руб.\n"
     ]
    }
   ],
   "source": [
    "#  функция расчёта прибыли на валидационной выборке, c 200 кважин с максимальным количеством запасов:\n",
    "def profit_200(target_valid, predictions_valid):\n",
    "    \n",
    "    pred_best_point = predictions_valid.sort_values(ascending=False).head(best_point_count)\n",
    "    target_best_point = target_valid.reset_index(drop=True)[pred_best_point.index]\n",
    "\n",
    "    revenue_total = target_best_point.sum() * revenue_1k_barrel # доход в млн. рублей с 200 скважин\n",
    "    profit = revenue_total - budget_for_region\n",
    "\n",
    "    return profit\n",
    "\n",
    "\n",
    "print(f'Прибыль по регионам с 200 лучших скважин(выборка из 25000 скважин)')\n",
    "print(f'Регион 1: {round(profit_200(target_valid_0, predictions_valid_0))} млн.руб.')\n",
    "print(f'Регион 2: {round(profit_200(target_valid_1, predictions_valid_1))} млн.руб.')\n",
    "print(f'Регион 3: {round(profit_200(target_valid_2, predictions_valid_2))} млн.руб.')\n"
   ]
  },
  {
   "cell_type": "markdown",
   "metadata": {},
   "source": [
    "## 4. Расчёт прибыли и рисков "
   ]
  },
  {
   "cell_type": "code",
   "execution_count": 11,
   "metadata": {},
   "outputs": [],
   "source": [
    "#  функция расчёта выручки на валидационной выборке, cо  случайным количеством скважин :\n",
    "def revenue (target_valid, predictions_valid, best_point_count):\n",
    "    \n",
    "    probs_sort = predictions_valid.sort_values(ascending=False) \n",
    "    \n",
    "    # извлечение объектов с одними и теми же индексами (истиные значения)\n",
    "    target_cel = target_valid[probs_sort.index][:best_point_count]\n",
    "    rev = target_cel.sum() * revenue_1k_barrel # доход (выручка) в млн. рублей\n",
    "    return rev"
   ]
  },
  {
   "cell_type": "markdown",
   "metadata": {},
   "source": [
    "Определим распределение прибыли с помощью техники Bootstrap для 1000 выборок каждого региона, при случайном выборе 500 скважин.\n",
    "    Ниже создана функция, которя получает на вход: список вероятностей predictions_valid — предсказного количества запасов в скважине; список ответов target_valid — истиного количества запасов; количество повторений псевдовыборок;требуемое количество скважин.\n",
    "    \n",
    "   Внутри каждой подвыборки, функция расчитывает прибыль и оценивает первую на убыточность, формирует список распределения выручки **values**, определяет среднюю прибыль **mean**  для регионов, доверительный интервал **confidence_interval** и вероятность получить отрицательную выручку **p_value**."
   ]
  },
  {
   "cell_type": "code",
   "execution_count": 12,
   "metadata": {},
   "outputs": [],
   "source": [
    "def income_distribution (predictions_valid, target_valid, bootstrap_samples, explore_point_count):\n",
    "    state = RandomState(12345)\n",
    "    # расчет количества убыточных скважин\n",
    "    count = 0 \n",
    "    # список значений прибыли для 1000 выборок\n",
    "    values = [] \n",
    "\n",
    "    for i in range(bootstrap_samples): # создаем 1000 выборок\n",
    "\n",
    "        #сброс индексов и случайный выбор исследуемого количества скважин 500\n",
    "        target_subsample = target_valid.reset_index(drop=True).sample(explore_point_count, replace=True, random_state=state)\n",
    "\n",
    "        # отбор строк из предсказаний, соответствующих индексу отобранных строк целевого признака\n",
    "        probs_subsample = predictions_valid[target_subsample.index]\n",
    "\n",
    "        # расчет прибыли для отобранных строк,для необходимого количества скважин с наибольшим запасом сырья 200\n",
    "        profit = revenue(target_subsample, probs_subsample, best_point_count) - budget_for_region\n",
    "        \n",
    "        # прибыль в список \n",
    "        values.append(profit)\n",
    "\n",
    "        # проверка подвыборки на  убыточность\n",
    "        if profit < 0:\n",
    "            count +=1\n",
    "            \n",
    "    print('count =', count)\n",
    "    print()\n",
    "    \n",
    "    values = pd.Series(values)\n",
    "    display(values.head(), values.tail())\n",
    "    print()\n",
    "    \n",
    "    mean = values.mean()\n",
    "    print(\"Среднее значение прибыли:\", round(mean, 2), 'млн. рублей')\n",
    "    print()\n",
    "    \n",
    "    # 1-й способ:\n",
    "    # confidence_interval = st.t.interval(0.95, len(values)-1, values.mean(), np.std(values, ddof=1))\n",
    "    \n",
    "    # 2-й способ:\n",
    "    # confidence_interval = st.t.interval(\n",
    "    # 0.95, len(values)-1, values.mean(), values.sem())\n",
    "    \n",
    "    # 3-й способ:    \n",
    "    lower = values.quantile(0.025)\n",
    "    apper = values.quantile(.975)\n",
    "    \n",
    "    \n",
    "    # print(\"95%-ый доверительный интервал:\", confidence_interval)\n",
    "    print(f'95%-ый доверительный интервал:( {lower}, {apper} )')\n",
    "    print()\n",
    "     \n",
    "    p_value = 1. * count / bootstrap_samples\n",
    "    if p_value < loss_probability:\n",
    "        print(\"Вероятность убытков равна {:.2%} и является меньше допустимой, данный регион подходит по критериям\".format(p_value))\n",
    "    else:\n",
    "        print(\"Вероятность убытков равна {:.2%} и является больше допустимой, регион не подходит по критериям\".format(p_value))    \n",
    "    \n",
    "    # построение распределения выручки по регионам\n",
    "    plt.figure()\n",
    "    _ = plt.hist(values,  bins=100)\n",
    "    \n",
    "    # левая граница доверительного интервала\n",
    "    # one_x12, one_y12 = [confidence_interval[0],confidence_interval[0]], [0, 35]\n",
    "    one_x12, one_y12 = [lower,lower], [0, 35]\n",
    "    \n",
    "    # правая граница доверительного интервала\n",
    "    # two_x12, two_y12 = [confidence_interval[1],confidence_interval[1]], [0, 35]\n",
    "    two_x12, two_y12 = [apper,apper], [0, 35]\n",
    "    \n",
    "    plt.title('Гистограмма распределения прибыли')\n",
    "    plt.xlabel('Прибыль (млн. руб.)')\n",
    "    plt.plot(one_x12, one_y12, two_x12, two_y12, marker = '')\n",
    "    "
   ]
  },
  {
   "cell_type": "code",
   "execution_count": 13,
   "metadata": {},
   "outputs": [
    {
     "name": "stdout",
     "output_type": "stream",
     "text": [
      "Показатели при случайном выборе 500 скважин по Региону 1\n",
      "\n",
      "count = 60\n",
      "\n"
     ]
    },
    {
     "data": {
      "text/plain": [
       "0    585.088996\n",
       "1    536.393431\n",
       "2    211.079359\n",
       "3    265.280252\n",
       "4    271.992922\n",
       "dtype: float64"
      ]
     },
     "metadata": {},
     "output_type": "display_data"
    },
    {
     "data": {
      "text/plain": [
       "995    474.095510\n",
       "996    855.997177\n",
       "997    785.994755\n",
       "998    354.221504\n",
       "999    198.820277\n",
       "dtype: float64"
      ]
     },
     "metadata": {},
     "output_type": "display_data"
    },
    {
     "name": "stdout",
     "output_type": "stream",
     "text": [
      "\n",
      "Среднее значение прибыли: 425.94 млн. рублей\n",
      "\n",
      "95%-ый доверительный интервал:( -102.09009483793592, 947.976353358369 )\n",
      "\n",
      "Вероятность убытков равна 6.00% и является больше допустимой, регион не подходит по критериям\n"
     ]
    },
    {
     "data": {
      "image/png": "[encoded data removed]",
      "text/plain": [
       "<Figure size 432x288 with 1 Axes>"
      ]
     },
     "metadata": {
      "needs_background": "light"
     },
     "output_type": "display_data"
    }
   ],
   "source": [
    "print('Показатели при случайном выборе 500 скважин по Региону 1')\n",
    "print()\n",
    "income_distribution(predictions_valid_0, target_valid_0, bootstrap_samples, explore_point_count)\n"
   ]
  },
  {
   "cell_type": "code",
   "execution_count": 14,
   "metadata": {},
   "outputs": [
    {
     "name": "stdout",
     "output_type": "stream",
     "text": [
      "Показатели при случайном выборе 500 скважин по Региону 2\n",
      "\n",
      "count = 10\n",
      "\n"
     ]
    },
    {
     "data": {
      "text/plain": [
       "0    299.359372\n",
       "1    382.831548\n",
       "2    303.651161\n",
       "3    658.190210\n",
       "4    358.573613\n",
       "dtype: float64"
      ]
     },
     "metadata": {},
     "output_type": "display_data"
    },
    {
     "data": {
      "text/plain": [
       "995    755.968347\n",
       "996    766.728918\n",
       "997    358.511413\n",
       "998    509.843607\n",
       "999    174.524307\n",
       "dtype: float64"
      ]
     },
     "metadata": {},
     "output_type": "display_data"
    },
    {
     "name": "stdout",
     "output_type": "stream",
     "text": [
      "\n",
      "Среднее значение прибыли: 515.22 млн. рублей\n",
      "\n",
      "95%-ый доверительный интервал:( 68.87322537050254, 931.547591257049 )\n",
      "\n",
      "Вероятность убытков равна 1.00% и является меньше допустимой, данный регион подходит по критериям\n"
     ]
    },
    {
     "data": {
      "image/png": "[encoded data removed]",
      "text/plain": [
       "<Figure size 432x288 with 1 Axes>"
      ]
     },
     "metadata": {
      "needs_background": "light"
     },
     "output_type": "display_data"
    }
   ],
   "source": [
    "print('Показатели при случайном выборе 500 скважин по Региону 2')\n",
    "print()\n",
    "income_distribution (predictions_valid_1, target_valid_1, bootstrap_samples, explore_point_count)\n"
   ]
  },
  {
   "cell_type": "code",
   "execution_count": 15,
   "metadata": {},
   "outputs": [
    {
     "name": "stdout",
     "output_type": "stream",
     "text": [
      "Показатели при случайном выборе 500 скважин по Региону 3\n",
      "\n",
      "count = 64\n",
      "\n"
     ]
    },
    {
     "data": {
      "text/plain": [
       "0    -95.044177\n",
       "1    728.210597\n",
       "2    611.217813\n",
       "3    582.754149\n",
       "4     25.014579\n",
       "dtype: float64"
      ]
     },
     "metadata": {},
     "output_type": "display_data"
    },
    {
     "data": {
      "text/plain": [
       "995    566.865968\n",
       "996    -11.648065\n",
       "997    645.595218\n",
       "998    536.735982\n",
       "999    121.270210\n",
       "dtype: float64"
      ]
     },
     "metadata": {},
     "output_type": "display_data"
    },
    {
     "name": "stdout",
     "output_type": "stream",
     "text": [
      "\n",
      "Среднее значение прибыли: 435.01 млн. рублей\n",
      "\n",
      "95%-ый доверительный интервал:( -128.88054732978893, 969.7069541802657 )\n",
      "\n",
      "Вероятность убытков равна 6.40% и является больше допустимой, регион не подходит по критериям\n"
     ]
    },
    {
     "data": {
      "image/png": "[encoded data removed]",
      "text/plain": [
       "<Figure size 432x288 with 1 Axes>"
      ]
     },
     "metadata": {
      "needs_background": "light"
     },
     "output_type": "display_data"
    }
   ],
   "source": [
    "print('Показатели при случайном выборе 500 скважин по Региону 3')\n",
    "print()\n",
    "income_distribution (predictions_valid_2, target_valid_2, bootstrap_samples, explore_point_count)\n"
   ]
  },
  {
   "cell_type": "markdown",
   "metadata": {},
   "source": [
    "**Выводы:**\n",
    "\n",
    " \n",
    "1. Согласно рассчетам, средние значения прибыли составили: регион 1 - 426 млн. рублей, регион 2 - 515 млн. рублей , регион 3 - 435 млн. рублей. \n",
    "\n",
    "2. **Регион 1** и **Регион 3** обладают очень высокой вероятностью убытков (6 и 6.4 % соответственно) и не соответствуют условиям установленной бизнес-задачи (вероятность убытков не менее 2,5 %). Данную ситуацию наглядно описывают гистограммы распределения прибыли с 95-% доверительным интервалом. Левая граница обоих регионов принимает отрицательное значение, что говорит о том, что более 2.5 % подвыборок имеют отрицательную прибыль.\n",
    "\n",
    "3. **Регион 2 соответствует условиям поставленной задачи и рекомендован для дальнейшей разработки**. Среднее значение прибыли: 515.22 млн. рублей, является наибольшим среди трех регионов., а также единственный соответствует условию по минимальной вероятности убытков (левая граница 95-% доверительного интервала - положительная). \n",
    "\n",
    "   Замечание: \n",
    "   При случайном выборе 500 исследуемых скважин , потенциальная прибыль падает в среднем в 6 раз (с 3 до 0,5 млрд.руб.) по сравнению с исследованием 25тыс. скважин. Вероятно, стоит  рассматривать  бюджет разработки скважин отдельно от бюджета разведки (исследования)."
   ]
  },
  {
   "cell_type": "markdown",
   "metadata": {},
   "source": []
  }
 ],
 "metadata": {
  "ExecuteTimeLog": [
   {
    "duration": 373,
    "start_time": "2022-03-27T05:49:42.232Z"
   },
   {
    "duration": 395,
    "start_time": "2022-03-27T05:58:05.781Z"
   },
   {
    "duration": 400,
    "start_time": "2022-03-27T05:59:57.081Z"
   },
   {
    "duration": 401,
    "start_time": "2022-03-27T06:35:08.035Z"
   },
   {
    "duration": 395,
    "start_time": "2022-03-27T11:30:43.760Z"
   },
   {
    "duration": 373,
    "start_time": "2022-03-27T11:30:44.156Z"
   },
   {
    "duration": 49,
    "start_time": "2022-03-27T11:30:44.530Z"
   },
   {
    "duration": 579,
    "start_time": "2022-03-28T10:45:28.181Z"
   },
   {
    "duration": 492,
    "start_time": "2022-03-28T10:45:28.762Z"
   },
   {
    "duration": 85,
    "start_time": "2022-03-28T10:45:29.257Z"
   },
   {
    "duration": 990,
    "start_time": "2022-03-28T10:48:20.214Z"
   },
   {
    "duration": 497,
    "start_time": "2022-03-28T10:48:21.207Z"
   },
   {
    "duration": 87,
    "start_time": "2022-03-28T10:48:21.707Z"
   },
   {
    "duration": 117,
    "start_time": "2022-03-28T11:49:48.913Z"
   },
   {
    "duration": 0,
    "start_time": "2022-03-28T11:49:49.033Z"
   },
   {
    "duration": 0,
    "start_time": "2022-03-28T11:49:49.034Z"
   },
   {
    "duration": 110,
    "start_time": "2022-03-28T11:53:16.906Z"
   },
   {
    "duration": 204,
    "start_time": "2022-03-28T11:54:20.117Z"
   },
   {
    "duration": 110,
    "start_time": "2022-03-28T11:54:45.643Z"
   },
   {
    "duration": 1034,
    "start_time": "2022-03-28T11:55:00.366Z"
   },
   {
    "duration": 997,
    "start_time": "2022-03-28T11:55:07.207Z"
   },
   {
    "duration": 497,
    "start_time": "2022-03-28T11:55:08.207Z"
   },
   {
    "duration": 91,
    "start_time": "2022-03-28T11:55:08.706Z"
   },
   {
    "duration": 1593,
    "start_time": "2022-04-05T05:46:51.084Z"
   },
   {
    "duration": 180,
    "start_time": "2022-04-05T05:46:52.679Z"
   },
   {
    "duration": 0,
    "start_time": "2022-04-05T05:46:52.861Z"
   },
   {
    "duration": 0,
    "start_time": "2022-04-05T05:46:52.862Z"
   },
   {
    "duration": 0,
    "start_time": "2022-04-05T05:46:52.863Z"
   },
   {
    "duration": 1426,
    "start_time": "2022-04-05T05:47:42.711Z"
   },
   {
    "duration": 451,
    "start_time": "2022-04-05T05:47:44.139Z"
   },
   {
    "duration": 99,
    "start_time": "2022-04-05T05:47:44.591Z"
   },
   {
    "duration": 40,
    "start_time": "2022-04-05T05:47:44.691Z"
   },
   {
    "duration": 16,
    "start_time": "2022-04-05T05:47:44.733Z"
   },
   {
    "duration": 104,
    "start_time": "2022-04-05T05:49:41.146Z"
   },
   {
    "duration": 924,
    "start_time": "2022-04-05T09:39:33.253Z"
   },
   {
    "duration": 1507,
    "start_time": "2022-04-05T09:42:04.038Z"
   },
   {
    "duration": 481,
    "start_time": "2022-04-05T09:42:05.547Z"
   },
   {
    "duration": 108,
    "start_time": "2022-04-05T09:42:06.030Z"
   },
   {
    "duration": 60,
    "start_time": "2022-04-05T09:42:06.141Z"
   },
   {
    "duration": 23,
    "start_time": "2022-04-05T09:42:06.203Z"
   },
   {
    "duration": 933,
    "start_time": "2022-04-05T09:42:06.227Z"
   },
   {
    "duration": 108,
    "start_time": "2022-04-05T09:42:07.162Z"
   },
   {
    "duration": 133,
    "start_time": "2022-04-05T09:42:52.757Z"
   },
   {
    "duration": 109,
    "start_time": "2022-04-05T09:43:39.231Z"
   },
   {
    "duration": 3,
    "start_time": "2022-04-05T09:45:37.894Z"
   },
   {
    "duration": 4,
    "start_time": "2022-04-05T09:45:38.548Z"
   },
   {
    "duration": 14,
    "start_time": "2022-04-05T09:45:40.016Z"
   },
   {
    "duration": 4,
    "start_time": "2022-04-05T09:47:52.879Z"
   },
   {
    "duration": 3,
    "start_time": "2022-04-05T09:47:59.815Z"
   },
   {
    "duration": 1783,
    "start_time": "2022-04-05T09:50:03.985Z"
   },
   {
    "duration": 488,
    "start_time": "2022-04-05T09:50:05.770Z"
   },
   {
    "duration": 98,
    "start_time": "2022-04-05T09:50:06.260Z"
   },
   {
    "duration": 58,
    "start_time": "2022-04-05T09:50:06.360Z"
   },
   {
    "duration": 15,
    "start_time": "2022-04-05T09:50:06.420Z"
   },
   {
    "duration": 933,
    "start_time": "2022-04-05T09:50:06.437Z"
   },
   {
    "duration": 115,
    "start_time": "2022-04-05T09:50:07.372Z"
   },
   {
    "duration": 207,
    "start_time": "2022-04-05T09:50:07.489Z"
   },
   {
    "duration": 103,
    "start_time": "2022-04-05T09:50:07.698Z"
   },
   {
    "duration": 7,
    "start_time": "2022-04-05T09:50:07.803Z"
   },
   {
    "duration": 21,
    "start_time": "2022-04-05T09:50:07.881Z"
   },
   {
    "duration": 3,
    "start_time": "2022-04-05T09:50:07.904Z"
   },
   {
    "duration": 5,
    "start_time": "2022-04-05T09:50:49.294Z"
   },
   {
    "duration": 4,
    "start_time": "2022-04-05T09:50:59.479Z"
   },
   {
    "duration": 5,
    "start_time": "2022-04-05T09:51:00.041Z"
   },
   {
    "duration": 6,
    "start_time": "2022-04-05T09:54:05.018Z"
   },
   {
    "duration": 3,
    "start_time": "2022-04-05T09:54:10.267Z"
   },
   {
    "duration": 3,
    "start_time": "2022-04-05T09:54:17.494Z"
   },
   {
    "duration": 7,
    "start_time": "2022-04-05T09:54:18.175Z"
   },
   {
    "duration": 102,
    "start_time": "2022-04-05T09:55:17.771Z"
   },
   {
    "duration": 7,
    "start_time": "2022-04-05T09:57:24.061Z"
   },
   {
    "duration": 7,
    "start_time": "2022-04-05T09:57:44.465Z"
   },
   {
    "duration": 17,
    "start_time": "2022-04-05T09:57:45.228Z"
   },
   {
    "duration": 17,
    "start_time": "2022-04-05T10:02:00.772Z"
   },
   {
    "duration": 623,
    "start_time": "2022-04-05T15:22:24.323Z"
   },
   {
    "duration": 553,
    "start_time": "2022-04-05T15:24:53.230Z"
   },
   {
    "duration": 3,
    "start_time": "2022-04-05T15:28:23.047Z"
   },
   {
    "duration": 45,
    "start_time": "2022-04-06T07:26:25.757Z"
   },
   {
    "duration": 1637,
    "start_time": "2022-04-06T07:27:33.331Z"
   },
   {
    "duration": 384,
    "start_time": "2022-04-06T07:27:34.970Z"
   },
   {
    "duration": 94,
    "start_time": "2022-04-06T07:27:35.355Z"
   },
   {
    "duration": 129,
    "start_time": "2022-04-06T07:27:35.462Z"
   },
   {
    "duration": 296,
    "start_time": "2022-04-06T07:27:35.593Z"
   },
   {
    "duration": 0,
    "start_time": "2022-04-06T07:27:35.891Z"
   },
   {
    "duration": 0,
    "start_time": "2022-04-06T07:27:35.892Z"
   },
   {
    "duration": 0,
    "start_time": "2022-04-06T07:27:35.894Z"
   },
   {
    "duration": 0,
    "start_time": "2022-04-06T07:27:35.895Z"
   },
   {
    "duration": 0,
    "start_time": "2022-04-06T07:27:35.896Z"
   },
   {
    "duration": 0,
    "start_time": "2022-04-06T07:27:35.898Z"
   },
   {
    "duration": 0,
    "start_time": "2022-04-06T07:27:35.899Z"
   },
   {
    "duration": 106,
    "start_time": "2022-04-06T07:28:09.444Z"
   },
   {
    "duration": 3,
    "start_time": "2022-04-06T07:28:16.604Z"
   },
   {
    "duration": 390,
    "start_time": "2022-04-06T07:28:18.447Z"
   },
   {
    "duration": 1466,
    "start_time": "2022-04-06T07:28:29.343Z"
   },
   {
    "duration": 387,
    "start_time": "2022-04-06T07:28:30.811Z"
   },
   {
    "duration": 106,
    "start_time": "2022-04-06T07:28:31.200Z"
   },
   {
    "duration": 132,
    "start_time": "2022-04-06T07:28:31.307Z"
   },
   {
    "duration": 119,
    "start_time": "2022-04-06T07:28:31.441Z"
   },
   {
    "duration": 0,
    "start_time": "2022-04-06T07:28:31.561Z"
   },
   {
    "duration": 0,
    "start_time": "2022-04-06T07:28:31.562Z"
   },
   {
    "duration": 0,
    "start_time": "2022-04-06T07:28:31.563Z"
   },
   {
    "duration": 0,
    "start_time": "2022-04-06T07:28:31.564Z"
   },
   {
    "duration": 0,
    "start_time": "2022-04-06T07:28:31.566Z"
   },
   {
    "duration": 0,
    "start_time": "2022-04-06T07:28:31.567Z"
   },
   {
    "duration": 0,
    "start_time": "2022-04-06T07:28:31.567Z"
   },
   {
    "duration": 589,
    "start_time": "2022-04-06T07:29:19.841Z"
   },
   {
    "duration": 1389,
    "start_time": "2022-04-06T07:29:27.385Z"
   },
   {
    "duration": 390,
    "start_time": "2022-04-06T07:29:28.776Z"
   },
   {
    "duration": 107,
    "start_time": "2022-04-06T07:29:29.168Z"
   },
   {
    "duration": 130,
    "start_time": "2022-04-06T07:29:29.276Z"
   },
   {
    "duration": 600,
    "start_time": "2022-04-06T07:29:29.408Z"
   },
   {
    "duration": 119,
    "start_time": "2022-04-06T07:29:30.010Z"
   },
   {
    "duration": 233,
    "start_time": "2022-04-06T07:29:30.131Z"
   },
   {
    "duration": 96,
    "start_time": "2022-04-06T07:29:30.368Z"
   },
   {
    "duration": 17,
    "start_time": "2022-04-06T07:29:30.466Z"
   },
   {
    "duration": 19,
    "start_time": "2022-04-06T07:29:30.484Z"
   },
   {
    "duration": 5,
    "start_time": "2022-04-06T07:29:30.504Z"
   },
   {
    "duration": 7,
    "start_time": "2022-04-06T08:29:16.656Z"
   },
   {
    "duration": 1431,
    "start_time": "2022-04-06T08:33:57.916Z"
   },
   {
    "duration": 1442,
    "start_time": "2022-04-06T08:35:13.944Z"
   },
   {
    "duration": 386,
    "start_time": "2022-04-06T08:35:15.388Z"
   },
   {
    "duration": 106,
    "start_time": "2022-04-06T08:35:15.776Z"
   },
   {
    "duration": 130,
    "start_time": "2022-04-06T08:35:15.884Z"
   },
   {
    "duration": 576,
    "start_time": "2022-04-06T08:35:16.016Z"
   },
   {
    "duration": 104,
    "start_time": "2022-04-06T08:35:16.594Z"
   },
   {
    "duration": 169,
    "start_time": "2022-04-06T08:35:16.699Z"
   },
   {
    "duration": 111,
    "start_time": "2022-04-06T08:35:16.870Z"
   },
   {
    "duration": 38,
    "start_time": "2022-04-06T08:35:17.063Z"
   },
   {
    "duration": 44,
    "start_time": "2022-04-06T08:35:17.103Z"
   },
   {
    "duration": 7,
    "start_time": "2022-04-06T08:35:17.148Z"
   },
   {
    "duration": 16,
    "start_time": "2022-04-06T08:35:17.157Z"
   },
   {
    "duration": 1602,
    "start_time": "2022-04-06T08:35:17.174Z"
   },
   {
    "duration": 0,
    "start_time": "2022-04-06T08:35:18.779Z"
   },
   {
    "duration": 0,
    "start_time": "2022-04-06T08:35:18.780Z"
   },
   {
    "duration": 1469,
    "start_time": "2022-04-06T08:35:55.987Z"
   },
   {
    "duration": 368,
    "start_time": "2022-04-06T08:35:57.458Z"
   },
   {
    "duration": 98,
    "start_time": "2022-04-06T08:35:57.827Z"
   },
   {
    "duration": 124,
    "start_time": "2022-04-06T08:35:57.926Z"
   },
   {
    "duration": 564,
    "start_time": "2022-04-06T08:35:58.052Z"
   },
   {
    "duration": 109,
    "start_time": "2022-04-06T08:35:58.618Z"
   },
   {
    "duration": 235,
    "start_time": "2022-04-06T08:35:58.729Z"
   },
   {
    "duration": 4,
    "start_time": "2022-04-06T08:35:58.967Z"
   },
   {
    "duration": 104,
    "start_time": "2022-04-06T08:35:58.972Z"
   },
   {
    "duration": 16,
    "start_time": "2022-04-06T08:35:59.079Z"
   },
   {
    "duration": 4,
    "start_time": "2022-04-06T08:35:59.097Z"
   },
   {
    "duration": 8,
    "start_time": "2022-04-06T08:35:59.103Z"
   },
   {
    "duration": 1470,
    "start_time": "2022-04-06T08:35:59.113Z"
   },
   {
    "duration": 1578,
    "start_time": "2022-04-06T08:36:00.585Z"
   },
   {
    "duration": 1514,
    "start_time": "2022-04-06T08:36:02.164Z"
   },
   {
    "duration": 2705,
    "start_time": "2022-04-07T08:11:38.056Z"
   },
   {
    "duration": 511,
    "start_time": "2022-04-07T08:11:40.767Z"
   },
   {
    "duration": 155,
    "start_time": "2022-04-07T08:11:41.281Z"
   },
   {
    "duration": 219,
    "start_time": "2022-04-07T08:11:41.439Z"
   },
   {
    "duration": 972,
    "start_time": "2022-04-07T08:11:41.667Z"
   },
   {
    "duration": 155,
    "start_time": "2022-04-07T08:11:42.642Z"
   },
   {
    "duration": 277,
    "start_time": "2022-04-07T08:11:42.799Z"
   },
   {
    "duration": 89,
    "start_time": "2022-04-07T08:11:43.079Z"
   },
   {
    "duration": 96,
    "start_time": "2022-04-07T08:11:43.172Z"
   },
   {
    "duration": 25,
    "start_time": "2022-04-07T08:11:43.272Z"
   },
   {
    "duration": 5,
    "start_time": "2022-04-07T08:11:43.299Z"
   },
   {
    "duration": 14,
    "start_time": "2022-04-07T08:11:43.306Z"
   },
   {
    "duration": 2445,
    "start_time": "2022-04-07T08:11:43.323Z"
   },
   {
    "duration": 2457,
    "start_time": "2022-04-07T08:11:45.771Z"
   },
   {
    "duration": 2473,
    "start_time": "2022-04-07T08:11:48.232Z"
   },
   {
    "duration": 1987,
    "start_time": "2022-04-07T08:26:12.309Z"
   },
   {
    "duration": 507,
    "start_time": "2022-04-07T08:26:14.299Z"
   },
   {
    "duration": 164,
    "start_time": "2022-04-07T08:26:14.809Z"
   },
   {
    "duration": 224,
    "start_time": "2022-04-07T08:26:14.975Z"
   },
   {
    "duration": 991,
    "start_time": "2022-04-07T08:26:15.201Z"
   },
   {
    "duration": 154,
    "start_time": "2022-04-07T08:26:16.194Z"
   },
   {
    "duration": 325,
    "start_time": "2022-04-07T08:26:16.350Z"
   },
   {
    "duration": 92,
    "start_time": "2022-04-07T08:26:16.678Z"
   },
   {
    "duration": 10,
    "start_time": "2022-04-07T08:26:16.773Z"
   },
   {
    "duration": 23,
    "start_time": "2022-04-07T08:26:16.787Z"
   },
   {
    "duration": 5,
    "start_time": "2022-04-07T08:26:16.812Z"
   },
   {
    "duration": 49,
    "start_time": "2022-04-07T08:26:16.820Z"
   },
   {
    "duration": 2504,
    "start_time": "2022-04-07T08:26:16.872Z"
   },
   {
    "duration": 2450,
    "start_time": "2022-04-07T08:26:19.378Z"
   },
   {
    "duration": 2442,
    "start_time": "2022-04-07T08:26:21.831Z"
   },
   {
    "duration": 351,
    "start_time": "2022-04-08T07:24:01.277Z"
   },
   {
    "duration": 2494,
    "start_time": "2022-04-08T10:06:38.297Z"
   },
   {
    "duration": 534,
    "start_time": "2022-04-08T10:06:40.793Z"
   },
   {
    "duration": 161,
    "start_time": "2022-04-08T10:06:41.329Z"
   },
   {
    "duration": 239,
    "start_time": "2022-04-08T10:06:41.492Z"
   },
   {
    "duration": 1002,
    "start_time": "2022-04-08T10:06:41.735Z"
   },
   {
    "duration": 160,
    "start_time": "2022-04-08T10:06:42.739Z"
   },
   {
    "duration": 389,
    "start_time": "2022-04-08T10:06:42.902Z"
   },
   {
    "duration": 91,
    "start_time": "2022-04-08T10:06:43.295Z"
   },
   {
    "duration": 105,
    "start_time": "2022-04-08T10:06:43.389Z"
   },
   {
    "duration": 23,
    "start_time": "2022-04-08T10:06:43.496Z"
   },
   {
    "duration": 5,
    "start_time": "2022-04-08T10:06:43.521Z"
   },
   {
    "duration": 12,
    "start_time": "2022-04-08T10:06:43.528Z"
   },
   {
    "duration": 2509,
    "start_time": "2022-04-08T10:06:43.542Z"
   },
   {
    "duration": 0,
    "start_time": "2022-04-08T10:06:46.054Z"
   },
   {
    "duration": 0,
    "start_time": "2022-04-08T10:06:46.055Z"
   },
   {
    "duration": 1905,
    "start_time": "2022-04-08T10:07:56.024Z"
   },
   {
    "duration": 512,
    "start_time": "2022-04-08T10:07:57.932Z"
   },
   {
    "duration": 160,
    "start_time": "2022-04-08T10:07:58.447Z"
   },
   {
    "duration": 249,
    "start_time": "2022-04-08T10:07:58.609Z"
   },
   {
    "duration": 1015,
    "start_time": "2022-04-08T10:07:58.861Z"
   },
   {
    "duration": 163,
    "start_time": "2022-04-08T10:07:59.879Z"
   },
   {
    "duration": 340,
    "start_time": "2022-04-08T10:08:00.044Z"
   },
   {
    "duration": 94,
    "start_time": "2022-04-08T10:08:00.393Z"
   },
   {
    "duration": 24,
    "start_time": "2022-04-08T10:08:00.489Z"
   },
   {
    "duration": 40,
    "start_time": "2022-04-08T10:08:00.517Z"
   },
   {
    "duration": 5,
    "start_time": "2022-04-08T10:08:00.560Z"
   },
   {
    "duration": 17,
    "start_time": "2022-04-08T10:08:00.567Z"
   },
   {
    "duration": 2547,
    "start_time": "2022-04-08T10:08:00.586Z"
   },
   {
    "duration": 2619,
    "start_time": "2022-04-08T10:08:03.137Z"
   },
   {
    "duration": 2554,
    "start_time": "2022-04-08T10:08:05.758Z"
   }
  ],
  "kernelspec": {
   "display_name": "Python 3 (ipykernel)",
   "language": "python",
   "name": "python3"
  },
  "language_info": {
   "codemirror_mode": {
    "name": "ipython",
    "version": 3
   },
   "file_extension": ".py",
   "mimetype": "text/x-python",
   "name": "python",
   "nbconvert_exporter": "python",
   "pygments_lexer": "ipython3",
   "version": "3.8.10"
  },
  "toc": {
   "base_numbering": 1,
   "nav_menu": {},
   "number_sections": true,
   "sideBar": true,
   "skip_h1_title": true,
   "title_cell": "Table of Contents",
   "title_sidebar": "Contents",
   "toc_cell": false,
   "toc_position": {
    "height": "calc(100% - 180px)",
    "left": "10px",
    "top": "150px",
    "width": "351.705px"
   },
   "toc_section_display": true,
   "toc_window_display": false
  },
  "toc-autonumbering": false
 },
 "nbformat": 4,
 "nbformat_minor": 4
}
